{
 "cells": [
  {
   "cell_type": "code",
   "execution_count": 1,
   "id": "301d2889",
   "metadata": {},
   "outputs": [],
   "source": [
    "import praw\n",
    "import pandas as pd\n",
    "import datetime as dt"
   ]
  },
  {
   "cell_type": "code",
   "execution_count": 2,
   "id": "f92888eb",
   "metadata": {},
   "outputs": [],
   "source": [
    "reddit = praw.Reddit(client_id='LbdtH3WioyCU3l15j_EpIg', \\\n",
    "                     client_secret='zZMUPKsHBXIMuVsoV0uoYGWYo74wkA', \\\n",
    "                     user_agent='Anxiety_prediction')"
   ]
  },
  {
   "cell_type": "code",
   "execution_count": 3,
   "id": "81dcc13e",
   "metadata": {},
   "outputs": [
    {
     "name": "stdout",
     "output_type": "stream",
     "text": [
      "Set your intention\n",
      "Monthly Check-In Thread\n",
      "I need a hug 😢\n",
      "I posted a while ago that I was afraid of getting the vaccine.\n",
      "I’m leaving Reddit to try to feel better\n",
      "I made a phone call!\n",
      "Anxiety Sunday nights\n",
      "If caffeine fuels anxiety, then what to do instead of it?\n",
      "okay pls help :(\n",
      "Does your Anxiety fluctuate at times and you don’t know what the trigger is?\n",
      "It’s insane how much you can over analyze complete silence from someone\n",
      "Zoloft\n",
      "Has anyone else have this happen to them regarding there studies.\n",
      "mentally exhausted\n",
      "Anyone ever freeze before they have to go somewhere?\n",
      "Extreme mood changes\n",
      "I start a new job tomorrow after not working for over 3 years.\n",
      "Does anyone else experience severe panic every time they start to fall asleep?\n",
      "I hate when people tell me what I’m going through is normal\n",
      "Nausea/Anxiety when leaving house\n",
      "Is it just me who just feels weird in certain settings\n",
      "Idk how much longer I can do this\n",
      "Going for my first job interview ever tomorrow and looking for advice\n",
      "Out of lockdown\n",
      "Vent\n",
      "First day of internship tomorrow\n",
      "Nausea: difference between sickness and anxiety\n",
      "I fear of getting abducted by aliens\n",
      "Intentionally making myself feel like a shitty person\n",
      "Doctor's appointment for anxiety later today, what do I say?\n",
      "Worrying way too much.\n",
      "Anyone else get this?\n",
      "Paramedics just left my house\n",
      "Long overdue papsmear tomorrow and scared.\n",
      "Tightness in my neck and palpitations\n",
      "Anxiety attack and suicidal thoughts.\n",
      "Past Decisions Impacting Future\n",
      "I feel alone\n",
      "Anyone else get this?\n",
      "Can fear cause loss of attraction and feeling \"in love\"?\n",
      "Working on Overcoming Negative Thinking/Ruminating\n",
      "Anxiety help\n",
      "Shivering/trembling while speaking\n",
      "Work anxiety\n",
      "Does anyone take Trazodone for acute anxiety attacks?\n",
      "Need to rant\n",
      "I’ve begun to notice how hard it’s become to battle anxiety day after day.\n",
      "I am struggling with anxiety and self harming/suicidal thoughts\n",
      "Something I notice\n",
      "Heart rate insane\n",
      "Scared I’m pregnant even though I got my period. I’ll explain why\n",
      "Fear and anxiety creeping back into my life\n",
      "Searching google and what do you know. “Sudden cardiac death can happy to all ages and can happen to otherwise healthy people” like wtf… now I’m anxious and can’t get over this. How do y’all deal with this? Is there any reassurance you guys know?\n",
      "Does anyone else’s anxiety get worse with movement ?\n",
      "Strong coffee and energy drinks\n",
      "27(M) - Anxiety throat (trigger) (please consider this)\n",
      "Can’t stop thinking\n",
      "so nervous.\n",
      "How do you choose a university bachelor’s degree if you’re clouded by excessive thoughts?\n",
      "How do I get all the bad thoughts about the vaccine out of my head?\n",
      "How to stop thinking worst-case scenario ?\n",
      "I don’t even know\n",
      "do y’all ever get those feelings of dread for no reason\n",
      "does it make sense to skip one year of university to recover from anxiety?\n",
      "Ate a restaurant!\n",
      "Unable to deal with big decisions. Does anyone else experience this and have any tips?\n",
      "i’m so freaked out right now.\n",
      "Hypochondriac having a panic attack\n",
      "So here we go again not a great sleep and got 2 stressful things to deal with today then another stressful thing tomorrow.\n",
      "How do you get yourself through a job interview?\n",
      "Tips on how not always to assume the worst?\n",
      "Anxiety has increased since starting Zoloft again. I start a new job soon. What can I do?\n",
      "undiagnosed, this last week has been an absolute nightmare\n",
      "Hi Reddit\n",
      "Feel like I've lost control of my life\n",
      "Overthinking\n",
      "Ate some chicken that tasted funny, currently panicking\n",
      "Little wins\n",
      "Anxiety and being shirtless\n",
      "What jobs work best for anxiety?\n",
      "Literally haven’t had a good week in a month…getting my wisdom teeth pulled made it all worse. My stomach can’t handle this🥺 my anxiety is through the roof.\n",
      "Between the eternal pandemic and climate change, is there any hope life will ever be good?\n",
      "I love the feeling of battling through anxiety and getting that feeling of relief after you beat it\n",
      "Fear of being drugged or poisoned???\n",
      "Clonazepam and alcohol\n",
      "Wondering What On Earth Is Going On With Me (and if anyone else feels the same)\n",
      "Help please I don’t know how to make others understand\n",
      "Everywhere I go I feel like all eyes on me.\n",
      "Tips for freeway drive tommorow\n",
      "Fear of kissing anybody\n",
      "Visualization techniques only bring scary thoughts.\n",
      "Sore throat - contrast dye worried\n",
      "Sleep paralysis: PLEASE tell me your personal experiences, details appreciated.\n",
      "Please I just need an advice\n",
      "Has anyone with anxiety overcome the fear of asking employers for references ?\n",
      "loss of appetite\n",
      "Tapering\n",
      "My heart just skipped a beat so hard\n",
      "Looking for advice, how to deal with anxiety stopping you from being productive\n",
      "My S/O isn't the best driver and it absolutely triggers my peak anxiety\n",
      "dancing against anxiety\n",
      "Uni starts tomorrow and my chest is burning\n",
      "Does anybody else feel like they have ME/CFS\n",
      "Sleep anxiety ?\n",
      "Breathing anxiety / worried I can't breathe, even though I am breathing\n",
      "How Can I get my doctor to prescribe me Xanax?\n",
      "Anxiety made me miss the last year of my papas life.\n",
      "Need some advice.\n",
      "Can anxiety cause chronic nausea?\n",
      "Driving alone anxiety?\n",
      "I got my covid vaccination today and it went really well\n",
      "How did you know you needed medication?\n",
      "Weed caused pounding and fast heart beat feel like a panic attack\n",
      "Extreme social anxiety - lying to fit in - need help\n",
      "Are these panic attacks?\n",
      "Anxiety/depression meds help\n",
      "Really considering voluntary inpatient psych hospital...\n",
      "Does anyone feel their hands lighter when they get anxious?\n",
      "Please tell me I’m not the only one who panics after a conversation with someone.\n",
      "What helps you?\n",
      "What happens when you go to the hospital because of anxiety?\n",
      "Anxiety is ruining my relationship\n",
      "Long term Lorazepam use\n",
      "Struggle on a night\n",
      "After 2 months on Zoloft its finally working\n",
      "Anyone else here have near constant 24/7 anxiety, but those random days or hours when you don’t, you’re instead just filled with depression over how horrible life is?\n",
      "Terrified of talking to my landlady\n",
      "how to stop caring what other people think\n",
      "advice on anxiety medication\n",
      "Fake Xanax vs real?\n",
      "Listening to frequencies to help with anxiety\n",
      "Why do I get anxiety about people’s responses?\n",
      "Does anyone else clench their whole body from anxiety? if so what are your symptoms you have from it?\n",
      "Anxiety about… everything\n",
      "New to anxiety. Need help understanding what my mind/body is doing.\n",
      "Separating self from mental illness?\n",
      "Anxiety Attacks\n",
      "I’ve been pushed over the edge today. I’m sick of my parents for a million reasons and I want to leave ASAP (I’m 18 and graduated HS)\n",
      "Anxiety over lump in leg\n",
      "Hi guys I just need an advice\n",
      "my roommate and her friends have been telling me to get more confidence\n",
      "How common is it to not know exactly what causes your anxiety?\n",
      "Stroke or anxiety?\n",
      "working with anxiety\n",
      "Help needed\n",
      "How do you cope with things that naturally give you anxiety?\n",
      "I’m terrified of getting food poisoning and it’s getting in the way of my life.\n",
      "I don't think there's any hope anymore. I just want it to be over...\n",
      "Afraid I’m gonna get fired, my anxiety is back in it’s worst form\n",
      "I (24F and bi) want to start dating people and eventually have a relationship, but my anxiety is making it such a hard process\n",
      "What to do when Hydroxyzine makes you groggy in the morning?\n",
      "Leg cramps?\n",
      "Get medication?\n",
      "How do I cope with an overwhelming amount of anxiety at school?\n",
      "Tried taking a puff of weed to help with my panic attack now I can hear my heartbeat and feel like I’m going to die\n",
      "Burnout, restlessness, frustration?\n",
      "I feel like I’m constantly going to die again\n",
      "Puzzles\n",
      "Hello I need some advice on what to do in this situation?\n",
      "Trying to summon the courage to ask my boss for a mental health break\n",
      "Anyone else can't manage to do homework on sundays bc of sunday scaries?\n",
      "Quitting my job\n",
      "Advice for not always getting anxisty at places I usually do\n",
      "What am I feeling!?\n",
      "My anxiety goes haywire when I'm in cars and I'm being forced into a decently long car journey next week - any advice on how to make it go smooth?\n",
      "Did this happen to anyone else before?\n",
      "What helped with IBS?\n",
      "Anxiety\n",
      "Im at the hospital\n",
      "I just fucked up at my first job\n",
      "Starting my path to emotional freedom\n",
      "Starting university tomorrow and I’m dreading it\n",
      "What are your tips and tricks to manage your health anxiety?\n",
      "Start my new job tomorrow and I'm bricking it\n",
      "Dealing with bad anxiety after moving house\n",
      "Anyone else get wake up anxiety?\n",
      "Does anyone else get super anxious being around peers develop friendships?\n",
      "Need support & opinions please\n",
      "Anyone knows any medication that can help with energy and depression?\n",
      "How do you guys deal when you make a mistake while driving and you feel like shit because of it.\n",
      "Sudden onset panic after years of manageable anxiety.\n",
      "Anyone get anxiety about the fear of not being able to fall asleep, thereby, creating insomnia?\n",
      "I’m so sick of health anxiety\n",
      "Sporadic Headaches\n",
      "Feeling of being incapable of things - proactively sabotage myself and want to abandon pursuits\n",
      "Symptoms weeks after? Please help\n",
      "Very Thirsty, no appetite\n",
      "Can constant stress and anxiety effect your head daily?\n",
      "Anxiety with working\n",
      "I just need to hear that i can do this and everything will be ok, maybe some advice please!\n",
      "Question about clonazepam\n",
      "Why is it that everytime i try to avoid stuff that i KNOW will make me depressed/angry/etc. i get anxious?\n",
      "Ditched\n",
      "Sporadic Severe Anxiety-Anyone else?\n",
      "First time that I have cried for two hours straight\n",
      "Do antidepressant withdrawl peak after a week of it starting\n",
      "infatuation: self destruction\n",
      "Near constant chest pain\n",
      "Grocery store anxiety, I have it bad\n",
      "Is my anxiety causing me to not want to eat?\n",
      "199\n"
     ]
    }
   ],
   "source": [
    "predictions = set()\n",
    "for submission in reddit.subreddit('anxiety').hot(limit=200):\n",
    "    print(submission.title)\n",
    "    predictions.add(submission.title)\n",
    "print(len(predictions))   "
   ]
  },
  {
   "cell_type": "code",
   "execution_count": 4,
   "id": "cccaab2a",
   "metadata": {},
   "outputs": [
    {
     "data": {
      "text/html": [
       "<div>\n",
       "<style scoped>\n",
       "    .dataframe tbody tr th:only-of-type {\n",
       "        vertical-align: middle;\n",
       "    }\n",
       "\n",
       "    .dataframe tbody tr th {\n",
       "        vertical-align: top;\n",
       "    }\n",
       "\n",
       "    .dataframe thead th {\n",
       "        text-align: right;\n",
       "    }\n",
       "</style>\n",
       "<table border=\"1\" class=\"dataframe\">\n",
       "  <thead>\n",
       "    <tr style=\"text-align: right;\">\n",
       "      <th></th>\n",
       "      <th>0</th>\n",
       "    </tr>\n",
       "  </thead>\n",
       "  <tbody>\n",
       "    <tr>\n",
       "      <th>0</th>\n",
       "      <td>Sleep paralysis: PLEASE tell me your personal ...</td>\n",
       "    </tr>\n",
       "    <tr>\n",
       "      <th>1</th>\n",
       "      <td>Out of lockdown</td>\n",
       "    </tr>\n",
       "    <tr>\n",
       "      <th>2</th>\n",
       "      <td>Does anyone else get super anxious being aroun...</td>\n",
       "    </tr>\n",
       "    <tr>\n",
       "      <th>3</th>\n",
       "      <td>Sleep anxiety ?</td>\n",
       "    </tr>\n",
       "    <tr>\n",
       "      <th>4</th>\n",
       "      <td>Tips on how not always to assume the worst?</td>\n",
       "    </tr>\n",
       "  </tbody>\n",
       "</table>\n",
       "</div>"
      ],
      "text/plain": [
       "                                                   0\n",
       "0  Sleep paralysis: PLEASE tell me your personal ...\n",
       "1                                    Out of lockdown\n",
       "2  Does anyone else get super anxious being aroun...\n",
       "3                                    Sleep anxiety ?\n",
       "4        Tips on how not always to assume the worst?"
      ]
     },
     "execution_count": 4,
     "metadata": {},
     "output_type": "execute_result"
    }
   ],
   "source": [
    "df = pd.DataFrame(predictions)\n",
    "df.head()"
   ]
  },
  {
   "cell_type": "code",
   "execution_count": 5,
   "id": "999aa523",
   "metadata": {},
   "outputs": [],
   "source": [
    "df.to_csv('predictions.csv',header=False, encoding ='utf-8', index=False)"
   ]
  },
  {
   "cell_type": "code",
   "execution_count": 6,
   "id": "d1d810a5",
   "metadata": {},
   "outputs": [
    {
     "name": "stderr",
     "output_type": "stream",
     "text": [
      "[nltk_data] Downloading package vader_lexicon to\n",
      "[nltk_data]     C:\\Users\\lenovo\\AppData\\Roaming\\nltk_data...\n",
      "[nltk_data]   Package vader_lexicon is already up-to-date!\n"
     ]
    },
    {
     "data": {
      "text/plain": [
       "True"
      ]
     },
     "execution_count": 6,
     "metadata": {},
     "output_type": "execute_result"
    }
   ],
   "source": [
    "import nltk\n",
    "nltk.download('vader_lexicon')"
   ]
  },
  {
   "cell_type": "code",
   "execution_count": 7,
   "id": "bddb31fd",
   "metadata": {},
   "outputs": [],
   "source": [
    "from nltk.sentiment.vader import SentimentIntensityAnalyzer as SIA\n",
    "\n",
    "sia = SIA()\n",
    "results = []\n",
    "\n",
    "for line in predictions:\n",
    "    pol_score = sia.polarity_scores(line) # -> dict\n",
    "    pol_score['title'] = line\n",
    "    results.append(pol_score)"
   ]
  },
  {
   "cell_type": "code",
   "execution_count": 8,
   "id": "b28cbdaf",
   "metadata": {},
   "outputs": [
    {
     "data": {
      "text/html": [
       "<div>\n",
       "<style scoped>\n",
       "    .dataframe tbody tr th:only-of-type {\n",
       "        vertical-align: middle;\n",
       "    }\n",
       "\n",
       "    .dataframe tbody tr th {\n",
       "        vertical-align: top;\n",
       "    }\n",
       "\n",
       "    .dataframe thead th {\n",
       "        text-align: right;\n",
       "    }\n",
       "</style>\n",
       "<table border=\"1\" class=\"dataframe\">\n",
       "  <thead>\n",
       "    <tr style=\"text-align: right;\">\n",
       "      <th></th>\n",
       "      <th>neg</th>\n",
       "      <th>neu</th>\n",
       "      <th>pos</th>\n",
       "      <th>compound</th>\n",
       "      <th>title</th>\n",
       "    </tr>\n",
       "  </thead>\n",
       "  <tbody>\n",
       "    <tr>\n",
       "      <th>0</th>\n",
       "      <td>0.000</td>\n",
       "      <td>0.558</td>\n",
       "      <td>0.442</td>\n",
       "      <td>0.7456</td>\n",
       "      <td>Sleep paralysis: PLEASE tell me your personal ...</td>\n",
       "    </tr>\n",
       "    <tr>\n",
       "      <th>1</th>\n",
       "      <td>0.000</td>\n",
       "      <td>1.000</td>\n",
       "      <td>0.000</td>\n",
       "      <td>0.0000</td>\n",
       "      <td>Out of lockdown</td>\n",
       "    </tr>\n",
       "    <tr>\n",
       "      <th>2</th>\n",
       "      <td>0.121</td>\n",
       "      <td>0.485</td>\n",
       "      <td>0.394</td>\n",
       "      <td>0.6705</td>\n",
       "      <td>Does anyone else get super anxious being aroun...</td>\n",
       "    </tr>\n",
       "    <tr>\n",
       "      <th>3</th>\n",
       "      <td>0.630</td>\n",
       "      <td>0.370</td>\n",
       "      <td>0.000</td>\n",
       "      <td>-0.1779</td>\n",
       "      <td>Sleep anxiety ?</td>\n",
       "    </tr>\n",
       "    <tr>\n",
       "      <th>4</th>\n",
       "      <td>0.339</td>\n",
       "      <td>0.661</td>\n",
       "      <td>0.000</td>\n",
       "      <td>-0.6249</td>\n",
       "      <td>Tips on how not always to assume the worst?</td>\n",
       "    </tr>\n",
       "  </tbody>\n",
       "</table>\n",
       "</div>"
      ],
      "text/plain": [
       "     neg    neu    pos  compound  \\\n",
       "0  0.000  0.558  0.442    0.7456   \n",
       "1  0.000  1.000  0.000    0.0000   \n",
       "2  0.121  0.485  0.394    0.6705   \n",
       "3  0.630  0.370  0.000   -0.1779   \n",
       "4  0.339  0.661  0.000   -0.6249   \n",
       "\n",
       "                                               title  \n",
       "0  Sleep paralysis: PLEASE tell me your personal ...  \n",
       "1                                    Out of lockdown  \n",
       "2  Does anyone else get super anxious being aroun...  \n",
       "3                                    Sleep anxiety ?  \n",
       "4        Tips on how not always to assume the worst?  "
      ]
     },
     "execution_count": 8,
     "metadata": {},
     "output_type": "execute_result"
    }
   ],
   "source": [
    "df=pd.DataFrame.from_records(results)\n",
    "df.head()"
   ]
  },
  {
   "cell_type": "code",
   "execution_count": 9,
   "id": "c0a2e404",
   "metadata": {},
   "outputs": [],
   "source": [
    "# 0 is for not anxious\n",
    "# 1 is for anxious"
   ]
  },
  {
   "cell_type": "code",
   "execution_count": 10,
   "id": "52ccc5ea",
   "metadata": {},
   "outputs": [
    {
     "data": {
      "text/html": [
       "<div>\n",
       "<style scoped>\n",
       "    .dataframe tbody tr th:only-of-type {\n",
       "        vertical-align: middle;\n",
       "    }\n",
       "\n",
       "    .dataframe tbody tr th {\n",
       "        vertical-align: top;\n",
       "    }\n",
       "\n",
       "    .dataframe thead th {\n",
       "        text-align: right;\n",
       "    }\n",
       "</style>\n",
       "<table border=\"1\" class=\"dataframe\">\n",
       "  <thead>\n",
       "    <tr style=\"text-align: right;\">\n",
       "      <th></th>\n",
       "      <th>neg</th>\n",
       "      <th>neu</th>\n",
       "      <th>pos</th>\n",
       "      <th>compound</th>\n",
       "      <th>title</th>\n",
       "      <th>label</th>\n",
       "    </tr>\n",
       "  </thead>\n",
       "  <tbody>\n",
       "    <tr>\n",
       "      <th>0</th>\n",
       "      <td>0.000</td>\n",
       "      <td>0.558</td>\n",
       "      <td>0.442</td>\n",
       "      <td>0.7456</td>\n",
       "      <td>Sleep paralysis: PLEASE tell me your personal ...</td>\n",
       "      <td>0</td>\n",
       "    </tr>\n",
       "    <tr>\n",
       "      <th>1</th>\n",
       "      <td>0.000</td>\n",
       "      <td>1.000</td>\n",
       "      <td>0.000</td>\n",
       "      <td>0.0000</td>\n",
       "      <td>Out of lockdown</td>\n",
       "      <td>None</td>\n",
       "    </tr>\n",
       "    <tr>\n",
       "      <th>2</th>\n",
       "      <td>0.121</td>\n",
       "      <td>0.485</td>\n",
       "      <td>0.394</td>\n",
       "      <td>0.6705</td>\n",
       "      <td>Does anyone else get super anxious being aroun...</td>\n",
       "      <td>0</td>\n",
       "    </tr>\n",
       "    <tr>\n",
       "      <th>3</th>\n",
       "      <td>0.630</td>\n",
       "      <td>0.370</td>\n",
       "      <td>0.000</td>\n",
       "      <td>-0.1779</td>\n",
       "      <td>Sleep anxiety ?</td>\n",
       "      <td>None</td>\n",
       "    </tr>\n",
       "    <tr>\n",
       "      <th>4</th>\n",
       "      <td>0.339</td>\n",
       "      <td>0.661</td>\n",
       "      <td>0.000</td>\n",
       "      <td>-0.6249</td>\n",
       "      <td>Tips on how not always to assume the worst?</td>\n",
       "      <td>1</td>\n",
       "    </tr>\n",
       "  </tbody>\n",
       "</table>\n",
       "</div>"
      ],
      "text/plain": [
       "     neg    neu    pos  compound  \\\n",
       "0  0.000  0.558  0.442    0.7456   \n",
       "1  0.000  1.000  0.000    0.0000   \n",
       "2  0.121  0.485  0.394    0.6705   \n",
       "3  0.630  0.370  0.000   -0.1779   \n",
       "4  0.339  0.661  0.000   -0.6249   \n",
       "\n",
       "                                               title label  \n",
       "0  Sleep paralysis: PLEASE tell me your personal ...     0  \n",
       "1                                    Out of lockdown  None  \n",
       "2  Does anyone else get super anxious being aroun...     0  \n",
       "3                                    Sleep anxiety ?  None  \n",
       "4        Tips on how not always to assume the worst?     1  "
      ]
     },
     "execution_count": 10,
     "metadata": {},
     "output_type": "execute_result"
    }
   ],
   "source": [
    "df['label'] = None\n",
    "df.loc[df['compound']>0.2, 'label'] = 0\n",
    "df.loc[df['compound']<-0.2, 'label'] = 1 \n",
    "df.head()"
   ]
  },
  {
   "cell_type": "code",
   "execution_count": 11,
   "id": "824ad38a",
   "metadata": {},
   "outputs": [
    {
     "data": {
      "text/plain": [
       "1    76\n",
       "0    31\n",
       "Name: label, dtype: int64"
      ]
     },
     "execution_count": 11,
     "metadata": {},
     "output_type": "execute_result"
    }
   ],
   "source": [
    "df.label.value_counts()"
   ]
  },
  {
   "cell_type": "code",
   "execution_count": 12,
   "id": "a68295fb",
   "metadata": {},
   "outputs": [
    {
     "data": {
      "text/plain": [
       "1    71.028037\n",
       "0    28.971963\n",
       "Name: label, dtype: float64"
      ]
     },
     "execution_count": 12,
     "metadata": {},
     "output_type": "execute_result"
    }
   ],
   "source": [
    "df.label.value_counts(normalize=True)*100"
   ]
  },
  {
   "cell_type": "code",
   "execution_count": 13,
   "id": "04eb6b0d",
   "metadata": {
    "scrolled": true
   },
   "outputs": [
    {
     "name": "stdout",
     "output_type": "stream",
     "text": [
      "Not anxious:\n",
      "\n",
      "[0, 0, 0, 0, 0]\n",
      "\\Anxious:\n",
      "\n",
      "[1, 1, 1, 1, 1]\n"
     ]
    }
   ],
   "source": [
    "print(\"Not anxious:\\n\")\n",
    "print(list(df[df['label'] == 0].label)[:5]) \n",
    "\n",
    "print(\"\\Anxious:\\n\")\n",
    "print(list(df[df['label'] == 1].label)[:5] ) "
   ]
  },
  {
   "cell_type": "code",
   "execution_count": 14,
   "id": "27f512b2",
   "metadata": {},
   "outputs": [],
   "source": [
    "import matplotlib.pyplot as plt\n",
    "import seaborn as sns"
   ]
  },
  {
   "cell_type": "code",
   "execution_count": 15,
   "id": "738008f7",
   "metadata": {},
   "outputs": [
    {
     "data": {
      "image/png": "[encoded data removed]",
      "text/plain": [
       "<Figure size 576x576 with 1 Axes>"
      ]
     },
     "metadata": {
      "needs_background": "light"
     },
     "output_type": "display_data"
    }
   ],
   "source": [
    "fig, ax = plt.subplots(figsize=(8,8))\n",
    "\n",
    "counts = df.label.value_counts(normalize=True)*100\n",
    "\n",
    "sns.barplot(x=counts.index , y=counts, ax=ax)\n",
    "\n",
    "ax.set_xticklabels(['Not Anxious','Anxious'])\n",
    "ax.set_ylabel(\"Percentage\")\n",
    "plt.show()"
   ]
  }
 ],
 "metadata": {
  "kernelspec": {
   "display_name": "Python 3",
   "language": "python",
   "name": "python3"
  },
  "language_info": {
   "codemirror_mode": {
    "name": "ipython",
    "version": 3
   },
   "file_extension": ".py",
   "mimetype": "text/x-python",
   "name": "python",
   "nbconvert_exporter": "python",
   "pygments_lexer": "ipython3",
   "version": "3.8.8"
  }
 },
 "nbformat": 4,
 "nbformat_minor": 5
}
